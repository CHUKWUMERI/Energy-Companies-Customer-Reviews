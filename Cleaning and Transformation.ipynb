{
 "cells": [
  {
   "cell_type": "code",
   "execution_count": 1,
   "id": "2b68ab28",
   "metadata": {},
   "outputs": [],
   "source": [
    "import pandas as pd\n",
    "import numpy as np\n",
    "import datetime as dt\n",
    "from dateutil.relativedelta import relativedelta\n",
    "import nltk\n",
    "import spacy\n",
    "from nltk.sentiment.vader import SentimentIntensityAnalyzer\n",
    "from nltk.corpus import stopwords\n",
    "from nltk.tokenize import word_tokenize\n",
    "from nltk import pos_tag\n",
    "import re\n",
    "from wordsegment import load, segment\n",
    "from sklearn.feature_extraction.text import CountVectorizer\n",
    "from sklearn.decomposition import LatentDirichletAllocation\n",
    "from spellchecker import SpellChecker\n",
    "import matplotlib.pyplot as plt"
   ]
  },
  {
   "cell_type": "code",
   "execution_count": 2,
   "id": "f09c4814",
   "metadata": {},
   "outputs": [],
   "source": [
    "dataset = pd.read_csv('Energy-Data.csv')"
   ]
  },
  {
   "cell_type": "code",
   "execution_count": 3,
   "id": "e20329e9",
   "metadata": {
    "scrolled": true
   },
   "outputs": [
    {
     "data": {
      "text/html": [
       "<div>\n",
       "<style scoped>\n",
       "    .dataframe tbody tr th:only-of-type {\n",
       "        vertical-align: middle;\n",
       "    }\n",
       "\n",
       "    .dataframe tbody tr th {\n",
       "        vertical-align: top;\n",
       "    }\n",
       "\n",
       "    .dataframe thead th {\n",
       "        text-align: right;\n",
       "    }\n",
       "</style>\n",
       "<table border=\"1\" class=\"dataframe\">\n",
       "  <thead>\n",
       "    <tr style=\"text-align: right;\">\n",
       "      <th></th>\n",
       "      <th>Company</th>\n",
       "      <th>Reviewer Verification Status</th>\n",
       "      <th>Date</th>\n",
       "      <th>Rating</th>\n",
       "      <th>Review</th>\n",
       "    </tr>\n",
       "  </thead>\n",
       "  <tbody>\n",
       "    <tr>\n",
       "      <th>0</th>\n",
       "      <td>British Gas</td>\n",
       "      <td>Verified Reviewer</td>\n",
       "      <td>Posted 18 hours ago</td>\n",
       "      <td>1</td>\n",
       "      <td>“\\nSince opening an account after my husband d...</td>\n",
       "    </tr>\n",
       "    <tr>\n",
       "      <th>1</th>\n",
       "      <td>British Gas</td>\n",
       "      <td>NaN</td>\n",
       "      <td>Posted 1 day ago</td>\n",
       "      <td>1</td>\n",
       "      <td>“\\nBritish Gas, if you going to launch a new a...</td>\n",
       "    </tr>\n",
       "    <tr>\n",
       "      <th>2</th>\n",
       "      <td>British Gas</td>\n",
       "      <td>NaN</td>\n",
       "      <td>Posted 1 day ago</td>\n",
       "      <td>1</td>\n",
       "      <td>“\\nReceived a letter saying we were £1800 in c...</td>\n",
       "    </tr>\n",
       "    <tr>\n",
       "      <th>3</th>\n",
       "      <td>British Gas</td>\n",
       "      <td>NaN</td>\n",
       "      <td>Posted 1 day ago</td>\n",
       "      <td>1</td>\n",
       "      <td>“\\nI received a letter on 17 November saying m...</td>\n",
       "    </tr>\n",
       "    <tr>\n",
       "      <th>4</th>\n",
       "      <td>British Gas</td>\n",
       "      <td>Verified Reviewer</td>\n",
       "      <td>Posted 1 day ago</td>\n",
       "      <td>1</td>\n",
       "      <td>“\\nI submitted my meter readings for this mont...</td>\n",
       "    </tr>\n",
       "  </tbody>\n",
       "</table>\n",
       "</div>"
      ],
      "text/plain": [
       "       Company Reviewer Verification Status                 Date  Rating  \\\n",
       "0  British Gas            Verified Reviewer  Posted 18 hours ago       1   \n",
       "1  British Gas                          NaN     Posted 1 day ago       1   \n",
       "2  British Gas                          NaN     Posted 1 day ago       1   \n",
       "3  British Gas                          NaN     Posted 1 day ago       1   \n",
       "4  British Gas            Verified Reviewer     Posted 1 day ago       1   \n",
       "\n",
       "                                              Review  \n",
       "0  “\\nSince opening an account after my husband d...  \n",
       "1  “\\nBritish Gas, if you going to launch a new a...  \n",
       "2  “\\nReceived a letter saying we were £1800 in c...  \n",
       "3  “\\nI received a letter on 17 November saying m...  \n",
       "4  “\\nI submitted my meter readings for this mont...  "
      ]
     },
     "execution_count": 3,
     "metadata": {},
     "output_type": "execute_result"
    }
   ],
   "source": [
    "# Previewing the dataset\n",
    "dataset.head()"
   ]
  },
  {
   "cell_type": "code",
   "execution_count": 4,
   "id": "e5a75d1f",
   "metadata": {},
   "outputs": [],
   "source": [
    "# Filling the verification status\n",
    "dataset['Reviewer Verification Status'].fillna('Not Verified', inplace=True)"
   ]
  },
  {
   "cell_type": "code",
   "execution_count": 5,
   "id": "a451dec1",
   "metadata": {},
   "outputs": [],
   "source": [
    "# The date the dataset was collected\n",
    "date_of_date_collection = '01-12-2023'"
   ]
  },
  {
   "cell_type": "code",
   "execution_count": 6,
   "id": "5b8fd75c",
   "metadata": {},
   "outputs": [],
   "source": [
    "# Removing the Posted string\n",
    "dataset['Date'] = dataset['Date'].str.strip('Posted ').str.strip(' ag')"
   ]
  },
  {
   "cell_type": "code",
   "execution_count": 7,
   "id": "0fb04632",
   "metadata": {},
   "outputs": [],
   "source": [
    "def get_actual_date(value):\n",
    "    try:\n",
    "        number, period = value.split()\n",
    "        number = int(number)\n",
    "\n",
    "        date = dt.datetime.strptime(date_of_date_collection, '%d-%m-%Y')\n",
    "        if 'day' in period:\n",
    "            time_period = date - relativedelta(days=number)\n",
    "        elif 'week' in period :\n",
    "            time_period = date - relativedelta(weeks=number)\n",
    "        elif 'month' in period:\n",
    "            time_period = date - relativedelta(months=number)\n",
    "        elif 'year' in period:\n",
    "            time_period = date - relativedelta(years=number)\n",
    "        elif 'hour' in period:\n",
    "            time_period = date - relativedelta(hours=number)\n",
    "        else:\n",
    "            time_period = None\n",
    "    except: \n",
    "        time_period = None\n",
    "    \n",
    "    return time_period"
   ]
  },
  {
   "cell_type": "code",
   "execution_count": 8,
   "id": "eac9f173",
   "metadata": {},
   "outputs": [],
   "source": [
    "# Creating approximate date of reviews\n",
    "dataset['Approximate Date of Review'] = dataset['Date'].apply(get_actual_date)"
   ]
  },
  {
   "cell_type": "code",
   "execution_count": 9,
   "id": "c7c208e0",
   "metadata": {},
   "outputs": [
    {
     "data": {
      "text/html": [
       "<div>\n",
       "<style scoped>\n",
       "    .dataframe tbody tr th:only-of-type {\n",
       "        vertical-align: middle;\n",
       "    }\n",
       "\n",
       "    .dataframe tbody tr th {\n",
       "        vertical-align: top;\n",
       "    }\n",
       "\n",
       "    .dataframe thead th {\n",
       "        text-align: right;\n",
       "    }\n",
       "</style>\n",
       "<table border=\"1\" class=\"dataframe\">\n",
       "  <thead>\n",
       "    <tr style=\"text-align: right;\">\n",
       "      <th></th>\n",
       "      <th>Company</th>\n",
       "      <th>Reviewer Verification Status</th>\n",
       "      <th>Date</th>\n",
       "      <th>Rating</th>\n",
       "      <th>Review</th>\n",
       "      <th>Approximate Date of Review</th>\n",
       "    </tr>\n",
       "  </thead>\n",
       "  <tbody>\n",
       "    <tr>\n",
       "      <th>0</th>\n",
       "      <td>British Gas</td>\n",
       "      <td>Verified Reviewer</td>\n",
       "      <td>18 hours</td>\n",
       "      <td>1</td>\n",
       "      <td>“\\nSince opening an account after my husband d...</td>\n",
       "      <td>2023-11-30 06:00:00</td>\n",
       "    </tr>\n",
       "    <tr>\n",
       "      <th>1</th>\n",
       "      <td>British Gas</td>\n",
       "      <td>Not Verified</td>\n",
       "      <td>1 day</td>\n",
       "      <td>1</td>\n",
       "      <td>“\\nBritish Gas, if you going to launch a new a...</td>\n",
       "      <td>2023-11-30 00:00:00</td>\n",
       "    </tr>\n",
       "    <tr>\n",
       "      <th>2</th>\n",
       "      <td>British Gas</td>\n",
       "      <td>Not Verified</td>\n",
       "      <td>1 day</td>\n",
       "      <td>1</td>\n",
       "      <td>“\\nReceived a letter saying we were £1800 in c...</td>\n",
       "      <td>2023-11-30 00:00:00</td>\n",
       "    </tr>\n",
       "    <tr>\n",
       "      <th>3</th>\n",
       "      <td>British Gas</td>\n",
       "      <td>Not Verified</td>\n",
       "      <td>1 day</td>\n",
       "      <td>1</td>\n",
       "      <td>“\\nI received a letter on 17 November saying m...</td>\n",
       "      <td>2023-11-30 00:00:00</td>\n",
       "    </tr>\n",
       "    <tr>\n",
       "      <th>4</th>\n",
       "      <td>British Gas</td>\n",
       "      <td>Verified Reviewer</td>\n",
       "      <td>1 day</td>\n",
       "      <td>1</td>\n",
       "      <td>“\\nI submitted my meter readings for this mont...</td>\n",
       "      <td>2023-11-30 00:00:00</td>\n",
       "    </tr>\n",
       "  </tbody>\n",
       "</table>\n",
       "</div>"
      ],
      "text/plain": [
       "       Company Reviewer Verification Status      Date  Rating  \\\n",
       "0  British Gas            Verified Reviewer  18 hours       1   \n",
       "1  British Gas                 Not Verified     1 day       1   \n",
       "2  British Gas                 Not Verified     1 day       1   \n",
       "3  British Gas                 Not Verified     1 day       1   \n",
       "4  British Gas            Verified Reviewer     1 day       1   \n",
       "\n",
       "                                              Review  \\\n",
       "0  “\\nSince opening an account after my husband d...   \n",
       "1  “\\nBritish Gas, if you going to launch a new a...   \n",
       "2  “\\nReceived a letter saying we were £1800 in c...   \n",
       "3  “\\nI received a letter on 17 November saying m...   \n",
       "4  “\\nI submitted my meter readings for this mont...   \n",
       "\n",
       "  Approximate Date of Review  \n",
       "0        2023-11-30 06:00:00  \n",
       "1        2023-11-30 00:00:00  \n",
       "2        2023-11-30 00:00:00  \n",
       "3        2023-11-30 00:00:00  \n",
       "4        2023-11-30 00:00:00  "
      ]
     },
     "execution_count": 9,
     "metadata": {},
     "output_type": "execute_result"
    }
   ],
   "source": [
    "# previewing the changes\n",
    "dataset.head()"
   ]
  },
  {
   "cell_type": "code",
   "execution_count": 10,
   "id": "913c706d",
   "metadata": {},
   "outputs": [
    {
     "name": "stdout",
     "output_type": "stream",
     "text": [
      "<class 'pandas.core.frame.DataFrame'>\n",
      "RangeIndex: 4153 entries, 0 to 4152\n",
      "Data columns (total 6 columns):\n",
      " #   Column                        Non-Null Count  Dtype         \n",
      "---  ------                        --------------  -----         \n",
      " 0   Company                       4153 non-null   object        \n",
      " 1   Reviewer Verification Status  4153 non-null   object        \n",
      " 2   Date                          4153 non-null   object        \n",
      " 3   Rating                        4153 non-null   int64         \n",
      " 4   Review                        4153 non-null   object        \n",
      " 5   Approximate Date of Review    4153 non-null   datetime64[ns]\n",
      "dtypes: datetime64[ns](1), int64(1), object(4)\n",
      "memory usage: 194.8+ KB\n"
     ]
    }
   ],
   "source": [
    "# Getting the info of the dataset\n",
    "dataset.info()"
   ]
  },
  {
   "cell_type": "code",
   "execution_count": 11,
   "id": "b392aa90",
   "metadata": {},
   "outputs": [],
   "source": [
    "# Ensuring that it remains only date and not datetime\n",
    "dataset['Approximate Date of Review'] = dataset['Approximate Date of Review'].dt.date"
   ]
  },
  {
   "cell_type": "code",
   "execution_count": 12,
   "id": "1686e2e3",
   "metadata": {},
   "outputs": [],
   "source": [
    "# Removing the null values\n",
    "dataset.dropna(inplace=True)"
   ]
  },
  {
   "cell_type": "markdown",
   "id": "648ad82e",
   "metadata": {},
   "source": [
    "### Text Preparation"
   ]
  },
  {
   "cell_type": "code",
   "execution_count": 13,
   "id": "66873710",
   "metadata": {},
   "outputs": [],
   "source": [
    "# Removing non alphabetical words\n",
    "dataset['Review'] = dataset['Review'].apply(lambda m: re.sub('[^A-Za-z ]', '', m.lower())).str.replace('\\n', ' ').str.strip()\n",
    "\n",
    "dataset['Review'] = dataset['Review'].apply(lambda x: re.sub('\\s{2,}', ' ', x))"
   ]
  },
  {
   "cell_type": "code",
   "execution_count": 14,
   "id": "c57aadcc",
   "metadata": {},
   "outputs": [],
   "source": [
    "# This is used for correcting the texts\n",
    "spelling = SpellChecker()\n",
    "load() \n",
    "\n",
    "# Some text contains adjoined words and incorrectly spelt words\n",
    "def segment_spell_text(text):\n",
    "    \"This function will correct cojoined and incorrectly spelt words\"\n",
    "    corpus = []\n",
    "    text = text.split()\n",
    "    \n",
    "    for wrd in text:\n",
    "        if len(wrd) >= 4 and spelling.correction(wrd) is None: \n",
    "        # This makes it significantly faster as it ensures that only words that are 3 letters and above are considered\n",
    "            clean = segment(wrd)\n",
    "        else:\n",
    "            clean = [spelling.correction(wrd)]\n",
    "        \n",
    "        corpus.extend(clean)\n",
    "    return \" \".join(corpus)\n",
    "\n",
    "dataset['Review'] = dataset['Review'].apply(lambda x: segment_spell_text(x))"
   ]
  },
  {
   "cell_type": "code",
   "execution_count": 15,
   "id": "3d7480df",
   "metadata": {},
   "outputs": [],
   "source": [
    "# create preprocess_text function\n",
    "def preprocess_text(text):\n",
    "    spacy_lemma = spacy.load(\"en_core_web_sm\") # using the spacy module\n",
    "    \n",
    "    # Tokenize and lemmatize the text with spacy\n",
    "    tokens = [wrd.lemma_ for wrd in spacy_lemma(text)]\n",
    "    \n",
    "    # Creating more stop words\n",
    "    stop_words = ['british', 'gas', 'octopus', 'eon', 'npower', 'get', 'edf', 'energy', 'bg'] + stopwords.words('english')\n",
    "\n",
    "    # Remove stop words\n",
    "    filtered_tokens = [token for token in tokens if token not in stop_words and len(token) > 1 and 'http' not in token]\n",
    "\n",
    "    # Join the tokens back into a string\n",
    "    processed_text = ' '.join(filtered_tokens)\n",
    "    return processed_text\n",
    "\n",
    "# Applying the preprocessing function\n",
    "dataset['Review_Text_Cleaned'] = dataset['Review'].apply(preprocess_text)"
   ]
  },
  {
   "cell_type": "markdown",
   "id": "ba34ef32",
   "metadata": {},
   "source": [
    "### Sentiment Analysis "
   ]
  },
  {
   "cell_type": "code",
   "execution_count": 16,
   "id": "188e19a1",
   "metadata": {},
   "outputs": [],
   "source": [
    "# Using the Vader Sentiment Analyser\n",
    "sia = SentimentIntensityAnalyzer()"
   ]
  },
  {
   "cell_type": "code",
   "execution_count": 17,
   "id": "de9d3929",
   "metadata": {},
   "outputs": [],
   "source": [
    "# Function to get sentiment of text\n",
    "def get_sentiment(compound):\n",
    "    if compound < 0:\n",
    "        return \"Negative\"\n",
    "    else:\n",
    "        return 'Positive'"
   ]
  },
  {
   "cell_type": "code",
   "execution_count": 18,
   "id": "24ca4206",
   "metadata": {},
   "outputs": [],
   "source": [
    "# Getting the sentiment of the review\n",
    "dataset['Sentiment'] = dataset['Review_Text_Cleaned'].apply(lambda word: get_sentiment(sia.polarity_scores(word)['compound']))"
   ]
  },
  {
   "cell_type": "code",
   "execution_count": 19,
   "id": "5ffd5b9f",
   "metadata": {},
   "outputs": [
    {
     "data": {
      "text/html": [
       "<div>\n",
       "<style scoped>\n",
       "    .dataframe tbody tr th:only-of-type {\n",
       "        vertical-align: middle;\n",
       "    }\n",
       "\n",
       "    .dataframe tbody tr th {\n",
       "        vertical-align: top;\n",
       "    }\n",
       "\n",
       "    .dataframe thead th {\n",
       "        text-align: right;\n",
       "    }\n",
       "</style>\n",
       "<table border=\"1\" class=\"dataframe\">\n",
       "  <thead>\n",
       "    <tr style=\"text-align: right;\">\n",
       "      <th></th>\n",
       "      <th>Company</th>\n",
       "      <th>Reviewer Verification Status</th>\n",
       "      <th>Date</th>\n",
       "      <th>Rating</th>\n",
       "      <th>Review</th>\n",
       "      <th>Approximate Date of Review</th>\n",
       "      <th>Review_Text_Cleaned</th>\n",
       "      <th>Sentiment</th>\n",
       "    </tr>\n",
       "  </thead>\n",
       "  <tbody>\n",
       "    <tr>\n",
       "      <th>0</th>\n",
       "      <td>British Gas</td>\n",
       "      <td>Verified Reviewer</td>\n",
       "      <td>18 hours</td>\n",
       "      <td>1</td>\n",
       "      <td>since opening an account after my husband died...</td>\n",
       "      <td>2023-11-30</td>\n",
       "      <td>since open account husband die unable open lin...</td>\n",
       "      <td>Negative</td>\n",
       "    </tr>\n",
       "    <tr>\n",
       "      <th>1</th>\n",
       "      <td>British Gas</td>\n",
       "      <td>Not Verified</td>\n",
       "      <td>1 day</td>\n",
       "      <td>1</td>\n",
       "      <td>british gas if you going to launch a new app w...</td>\n",
       "      <td>2023-11-30</td>\n",
       "      <td>go launch new app come product awful interface...</td>\n",
       "      <td>Negative</td>\n",
       "    </tr>\n",
       "    <tr>\n",
       "      <th>2</th>\n",
       "      <td>British Gas</td>\n",
       "      <td>Not Verified</td>\n",
       "      <td>1 day</td>\n",
       "      <td>1</td>\n",
       "      <td>received a letter saying we were in credit the...</td>\n",
       "      <td>2023-11-30</td>\n",
       "      <td>receive letter say credit receive one say owe ...</td>\n",
       "      <td>Positive</td>\n",
       "    </tr>\n",
       "    <tr>\n",
       "      <th>3</th>\n",
       "      <td>British Gas</td>\n",
       "      <td>Not Verified</td>\n",
       "      <td>1 day</td>\n",
       "      <td>1</td>\n",
       "      <td>i received a letter on november saying my ac n...</td>\n",
       "      <td>2023-11-30</td>\n",
       "      <td>receive letter november say ac change mention ...</td>\n",
       "      <td>Negative</td>\n",
       "    </tr>\n",
       "    <tr>\n",
       "      <th>4</th>\n",
       "      <td>British Gas</td>\n",
       "      <td>Verified Reviewer</td>\n",
       "      <td>1 day</td>\n",
       "      <td>1</td>\n",
       "      <td>i submitted my meter readings for this month a...</td>\n",
       "      <td>2023-11-30</td>\n",
       "      <td>submit meter reading month every month next da...</td>\n",
       "      <td>Positive</td>\n",
       "    </tr>\n",
       "  </tbody>\n",
       "</table>\n",
       "</div>"
      ],
      "text/plain": [
       "       Company Reviewer Verification Status      Date  Rating  \\\n",
       "0  British Gas            Verified Reviewer  18 hours       1   \n",
       "1  British Gas                 Not Verified     1 day       1   \n",
       "2  British Gas                 Not Verified     1 day       1   \n",
       "3  British Gas                 Not Verified     1 day       1   \n",
       "4  British Gas            Verified Reviewer     1 day       1   \n",
       "\n",
       "                                              Review  \\\n",
       "0  since opening an account after my husband died...   \n",
       "1  british gas if you going to launch a new app w...   \n",
       "2  received a letter saying we were in credit the...   \n",
       "3  i received a letter on november saying my ac n...   \n",
       "4  i submitted my meter readings for this month a...   \n",
       "\n",
       "  Approximate Date of Review  \\\n",
       "0                 2023-11-30   \n",
       "1                 2023-11-30   \n",
       "2                 2023-11-30   \n",
       "3                 2023-11-30   \n",
       "4                 2023-11-30   \n",
       "\n",
       "                                 Review_Text_Cleaned Sentiment  \n",
       "0  since open account husband die unable open lin...  Negative  \n",
       "1  go launch new app come product awful interface...  Negative  \n",
       "2  receive letter say credit receive one say owe ...  Positive  \n",
       "3  receive letter november say ac change mention ...  Negative  \n",
       "4  submit meter reading month every month next da...  Positive  "
      ]
     },
     "execution_count": 19,
     "metadata": {},
     "output_type": "execute_result"
    }
   ],
   "source": [
    "# Previewing the sentiment\n",
    "dataset.head()"
   ]
  },
  {
   "cell_type": "markdown",
   "id": "9d53a255",
   "metadata": {},
   "source": [
    "### Validating Sentiments\n",
    "To confirm the sentiment, I'll cross check the rating along with the sentiment to see if neutral sentiments match. This is done on the premise that if a rating is given as 1, then the sentiment cannot be neutral."
   ]
  },
  {
   "cell_type": "code",
   "execution_count": 20,
   "id": "82f1e3e2",
   "metadata": {},
   "outputs": [],
   "source": [
    "# Incorrect positive sentiments\n",
    "incorrect_sents = dataset[(dataset['Rating'] == 1) & (dataset['Sentiment'] == 'Positive')]"
   ]
  },
  {
   "cell_type": "markdown",
   "id": "d050d30d",
   "metadata": {},
   "source": [
    "After reading through the corpus, one could argue that the model got it wrong in assigning a neutral sentiment to the text. Hence, I'll reassign the values to Negative"
   ]
  },
  {
   "cell_type": "code",
   "execution_count": 21,
   "id": "8d2c3bb3",
   "metadata": {},
   "outputs": [
    {
     "name": "stderr",
     "output_type": "stream",
     "text": [
      "C:\\Users\\USER\\AppData\\Local\\Temp\\ipykernel_18216\\3080328208.py:2: SettingWithCopyWarning: \n",
      "A value is trying to be set on a copy of a slice from a DataFrame\n",
      "\n",
      "See the caveats in the documentation: https://pandas.pydata.org/pandas-docs/stable/user_guide/indexing.html#returning-a-view-versus-a-copy\n",
      "  dataset['Sentiment'].loc[incorrect_sents.index] = 'Negative'\n"
     ]
    }
   ],
   "source": [
    "# Reassigning the sentiments to negative\n",
    "dataset['Sentiment'].loc[incorrect_sents.index] = 'Negative'"
   ]
  },
  {
   "cell_type": "code",
   "execution_count": 22,
   "id": "afb5fbe4",
   "metadata": {},
   "outputs": [
    {
     "data": {
      "text/plain": [
       "2       Negative\n",
       "4       Negative\n",
       "5       Negative\n",
       "8       Negative\n",
       "11      Negative\n",
       "          ...   \n",
       "4025    Negative\n",
       "4045    Negative\n",
       "4073    Negative\n",
       "4145    Negative\n",
       "4146    Negative\n",
       "Name: Sentiment, Length: 1319, dtype: object"
      ]
     },
     "execution_count": 22,
     "metadata": {},
     "output_type": "execute_result"
    }
   ],
   "source": [
    "# Previewing the reassigned values\n",
    "dataset['Sentiment'].loc[incorrect_sents.index]"
   ]
  },
  {
   "cell_type": "code",
   "execution_count": 28,
   "id": "ea9c38e9",
   "metadata": {},
   "outputs": [],
   "source": [
    "# Getting the year column\n",
    "dataset['year'] = dataset['Approximate Date of Review'].apply(lambda x: x.year)"
   ]
  },
  {
   "cell_type": "markdown",
   "id": "a78bdc38",
   "metadata": {},
   "source": [
    "While every review is important, I would not base an entire year's review on just any one less than 10. So everywhere the review was less than 10, I would remove it."
   ]
  },
  {
   "cell_type": "code",
   "execution_count": 29,
   "id": "e41f0672",
   "metadata": {},
   "outputs": [],
   "source": [
    "grouped_data = dataset.groupby(['Company', 'year'])\n",
    "\n",
    "frequency = grouped_data['year'].value_counts()\n",
    "\n",
    "# Getting only years where the occurences were more than 10\n",
    "occurences_more_than_10 = frequency[frequency >= 10].index"
   ]
  },
  {
   "cell_type": "code",
   "execution_count": 30,
   "id": "8c88fa78",
   "metadata": {},
   "outputs": [],
   "source": [
    "# Dataset holding more than 10 reviews per time\n",
    "cleaned_data = pd.DataFrame()\n",
    "\n",
    "for idx in occurences_more_than_10:\n",
    "    cleaned_data = pd.concat([cleaned_data, grouped_data.get_group(idx)])"
   ]
  },
  {
   "cell_type": "code",
   "execution_count": 31,
   "id": "a99036aa",
   "metadata": {},
   "outputs": [],
   "source": [
    "# Rearranging the index\n",
    "cleaned_data.reset_index(drop=True, inplace=True)"
   ]
  },
  {
   "cell_type": "markdown",
   "id": "50b81106",
   "metadata": {},
   "source": [
    "### Topic Modelling - Using SKLearn and Genism"
   ]
  },
  {
   "cell_type": "markdown",
   "id": "df1d0d15",
   "metadata": {},
   "source": [
    "#### Using SKlearn - LDA"
   ]
  },
  {
   "cell_type": "code",
   "execution_count": 32,
   "id": "ad5cf8e1",
   "metadata": {},
   "outputs": [
    {
     "data": {
      "text/html": [
       "<div>\n",
       "<style scoped>\n",
       "    .dataframe tbody tr th:only-of-type {\n",
       "        vertical-align: middle;\n",
       "    }\n",
       "\n",
       "    .dataframe tbody tr th {\n",
       "        vertical-align: top;\n",
       "    }\n",
       "\n",
       "    .dataframe thead th {\n",
       "        text-align: right;\n",
       "    }\n",
       "</style>\n",
       "<table border=\"1\" class=\"dataframe\">\n",
       "  <thead>\n",
       "    <tr style=\"text-align: right;\">\n",
       "      <th></th>\n",
       "      <th>Company</th>\n",
       "      <th>Reviewer Verification Status</th>\n",
       "      <th>Date</th>\n",
       "      <th>Rating</th>\n",
       "      <th>Review</th>\n",
       "      <th>Approximate Date of Review</th>\n",
       "      <th>Review_Text_Cleaned</th>\n",
       "      <th>Sentiment</th>\n",
       "      <th>year</th>\n",
       "    </tr>\n",
       "  </thead>\n",
       "  <tbody>\n",
       "    <tr>\n",
       "      <th>0</th>\n",
       "      <td>British Gas</td>\n",
       "      <td>Verified Reviewer</td>\n",
       "      <td>6 years</td>\n",
       "      <td>1</td>\n",
       "      <td>they claimed to have read my meter and over re...</td>\n",
       "      <td>2017-12-01</td>\n",
       "      <td>claim read meter read charge hundred pound tak...</td>\n",
       "      <td>Negative</td>\n",
       "      <td>2017</td>\n",
       "    </tr>\n",
       "    <tr>\n",
       "      <th>1</th>\n",
       "      <td>British Gas</td>\n",
       "      <td>Not Verified</td>\n",
       "      <td>6 years</td>\n",
       "      <td>1</td>\n",
       "      <td>they have the worst communication between depa...</td>\n",
       "      <td>2017-12-01</td>\n",
       "      <td>bad communication department ever see book plu...</td>\n",
       "      <td>Negative</td>\n",
       "      <td>2017</td>\n",
       "    </tr>\n",
       "    <tr>\n",
       "      <th>2</th>\n",
       "      <td>British Gas</td>\n",
       "      <td>Verified Reviewer</td>\n",
       "      <td>6 years</td>\n",
       "      <td>1</td>\n",
       "      <td>worst customer service i have come across simp...</td>\n",
       "      <td>2017-12-01</td>\n",
       "      <td>bad customer service come across simply avoid ...</td>\n",
       "      <td>Negative</td>\n",
       "      <td>2017</td>\n",
       "    </tr>\n",
       "    <tr>\n",
       "      <th>3</th>\n",
       "      <td>British Gas</td>\n",
       "      <td>Not Verified</td>\n",
       "      <td>6 years</td>\n",
       "      <td>1</td>\n",
       "      <td>absolute shambles of a service for homemade bo...</td>\n",
       "      <td>2017-12-01</td>\n",
       "      <td>absolute shamble service homemade boiler cover...</td>\n",
       "      <td>Negative</td>\n",
       "      <td>2017</td>\n",
       "    </tr>\n",
       "    <tr>\n",
       "      <th>4</th>\n",
       "      <td>British Gas</td>\n",
       "      <td>Verified Reviewer</td>\n",
       "      <td>6 years</td>\n",
       "      <td>1</td>\n",
       "      <td>i pay a lot of money annually for homemade so ...</td>\n",
       "      <td>2017-12-01</td>\n",
       "      <td>pay lot money annually homemade peace mind cov...</td>\n",
       "      <td>Negative</td>\n",
       "      <td>2017</td>\n",
       "    </tr>\n",
       "  </tbody>\n",
       "</table>\n",
       "</div>"
      ],
      "text/plain": [
       "       Company Reviewer Verification Status     Date  Rating  \\\n",
       "0  British Gas            Verified Reviewer  6 years       1   \n",
       "1  British Gas                 Not Verified  6 years       1   \n",
       "2  British Gas            Verified Reviewer  6 years       1   \n",
       "3  British Gas                 Not Verified  6 years       1   \n",
       "4  British Gas            Verified Reviewer  6 years       1   \n",
       "\n",
       "                                              Review  \\\n",
       "0  they claimed to have read my meter and over re...   \n",
       "1  they have the worst communication between depa...   \n",
       "2  worst customer service i have come across simp...   \n",
       "3  absolute shambles of a service for homemade bo...   \n",
       "4  i pay a lot of money annually for homemade so ...   \n",
       "\n",
       "  Approximate Date of Review  \\\n",
       "0                 2017-12-01   \n",
       "1                 2017-12-01   \n",
       "2                 2017-12-01   \n",
       "3                 2017-12-01   \n",
       "4                 2017-12-01   \n",
       "\n",
       "                                 Review_Text_Cleaned Sentiment  year  \n",
       "0  claim read meter read charge hundred pound tak...  Negative  2017  \n",
       "1  bad communication department ever see book plu...  Negative  2017  \n",
       "2  bad customer service come across simply avoid ...  Negative  2017  \n",
       "3  absolute shamble service homemade boiler cover...  Negative  2017  \n",
       "4  pay lot money annually homemade peace mind cov...  Negative  2017  "
      ]
     },
     "execution_count": 32,
     "metadata": {},
     "output_type": "execute_result"
    }
   ],
   "source": [
    "# Previewing the dataset\n",
    "cleaned_data.head()"
   ]
  },
  {
   "cell_type": "code",
   "execution_count": 33,
   "id": "19bbb97c",
   "metadata": {},
   "outputs": [
    {
     "data": {
      "text/html": [
       "<div>\n",
       "<style scoped>\n",
       "    .dataframe tbody tr th:only-of-type {\n",
       "        vertical-align: middle;\n",
       "    }\n",
       "\n",
       "    .dataframe tbody tr th {\n",
       "        vertical-align: top;\n",
       "    }\n",
       "\n",
       "    .dataframe thead th {\n",
       "        text-align: right;\n",
       "    }\n",
       "</style>\n",
       "<table border=\"1\" class=\"dataframe\">\n",
       "  <thead>\n",
       "    <tr style=\"text-align: right;\">\n",
       "      <th>year</th>\n",
       "      <th>2013</th>\n",
       "      <th>2015</th>\n",
       "      <th>2016</th>\n",
       "      <th>2017</th>\n",
       "      <th>2018</th>\n",
       "      <th>2019</th>\n",
       "      <th>2020</th>\n",
       "      <th>2021</th>\n",
       "      <th>2022</th>\n",
       "      <th>2023</th>\n",
       "    </tr>\n",
       "    <tr>\n",
       "      <th>Company</th>\n",
       "      <th></th>\n",
       "      <th></th>\n",
       "      <th></th>\n",
       "      <th></th>\n",
       "      <th></th>\n",
       "      <th></th>\n",
       "      <th></th>\n",
       "      <th></th>\n",
       "      <th></th>\n",
       "      <th></th>\n",
       "    </tr>\n",
       "  </thead>\n",
       "  <tbody>\n",
       "    <tr>\n",
       "      <th>British Gas</th>\n",
       "      <td>NaN</td>\n",
       "      <td>NaN</td>\n",
       "      <td>NaN</td>\n",
       "      <td>72.0</td>\n",
       "      <td>147.0</td>\n",
       "      <td>263.0</td>\n",
       "      <td>386.0</td>\n",
       "      <td>490.0</td>\n",
       "      <td>601.0</td>\n",
       "      <td>429.0</td>\n",
       "    </tr>\n",
       "    <tr>\n",
       "      <th>E.on</th>\n",
       "      <td>NaN</td>\n",
       "      <td>NaN</td>\n",
       "      <td>NaN</td>\n",
       "      <td>NaN</td>\n",
       "      <td>NaN</td>\n",
       "      <td>NaN</td>\n",
       "      <td>NaN</td>\n",
       "      <td>NaN</td>\n",
       "      <td>13.0</td>\n",
       "      <td>67.0</td>\n",
       "    </tr>\n",
       "    <tr>\n",
       "      <th>EDF Energy</th>\n",
       "      <td>NaN</td>\n",
       "      <td>NaN</td>\n",
       "      <td>NaN</td>\n",
       "      <td>NaN</td>\n",
       "      <td>NaN</td>\n",
       "      <td>NaN</td>\n",
       "      <td>12.0</td>\n",
       "      <td>92.0</td>\n",
       "      <td>153.0</td>\n",
       "      <td>190.0</td>\n",
       "    </tr>\n",
       "    <tr>\n",
       "      <th>Npower</th>\n",
       "      <td>15.0</td>\n",
       "      <td>62.0</td>\n",
       "      <td>65.0</td>\n",
       "      <td>46.0</td>\n",
       "      <td>65.0</td>\n",
       "      <td>71.0</td>\n",
       "      <td>48.0</td>\n",
       "      <td>11.0</td>\n",
       "      <td>NaN</td>\n",
       "      <td>NaN</td>\n",
       "    </tr>\n",
       "    <tr>\n",
       "      <th>Octopus Energy</th>\n",
       "      <td>NaN</td>\n",
       "      <td>NaN</td>\n",
       "      <td>NaN</td>\n",
       "      <td>NaN</td>\n",
       "      <td>17.0</td>\n",
       "      <td>106.0</td>\n",
       "      <td>129.0</td>\n",
       "      <td>169.0</td>\n",
       "      <td>182.0</td>\n",
       "      <td>208.0</td>\n",
       "    </tr>\n",
       "  </tbody>\n",
       "</table>\n",
       "</div>"
      ],
      "text/plain": [
       "year            2013  2015  2016  2017   2018   2019   2020   2021   2022  \\\n",
       "Company                                                                     \n",
       "British Gas      NaN   NaN   NaN  72.0  147.0  263.0  386.0  490.0  601.0   \n",
       "E.on             NaN   NaN   NaN   NaN    NaN    NaN    NaN    NaN   13.0   \n",
       "EDF Energy       NaN   NaN   NaN   NaN    NaN    NaN   12.0   92.0  153.0   \n",
       "Npower          15.0  62.0  65.0  46.0   65.0   71.0   48.0   11.0    NaN   \n",
       "Octopus Energy   NaN   NaN   NaN   NaN   17.0  106.0  129.0  169.0  182.0   \n",
       "\n",
       "year             2023  \n",
       "Company                \n",
       "British Gas     429.0  \n",
       "E.on             67.0  \n",
       "EDF Energy      190.0  \n",
       "Npower            NaN  \n",
       "Octopus Energy  208.0  "
      ]
     },
     "execution_count": 33,
     "metadata": {},
     "output_type": "execute_result"
    }
   ],
   "source": [
    "cleaned_data.pivot_table(index='Company', columns='year', values='Rating', aggfunc='count')"
   ]
  },
  {
   "cell_type": "code",
   "execution_count": 34,
   "id": "83039578",
   "metadata": {},
   "outputs": [],
   "source": [
    "# Topics per year\n",
    "topics_per_year = cleaned_data.groupby(['Company', 'year', 'Sentiment'])['Review_Text_Cleaned']"
   ]
  },
  {
   "cell_type": "code",
   "execution_count": 35,
   "id": "c8181cfc",
   "metadata": {},
   "outputs": [],
   "source": [
    "tp_keys = list(topics_per_year.groups.keys())"
   ]
  },
  {
   "cell_type": "code",
   "execution_count": 36,
   "id": "18271ca1",
   "metadata": {},
   "outputs": [],
   "source": [
    "# for i in tp_keys:\n",
    "corpus_per_year = {}\n",
    "\n",
    "for tpy in tp_keys:\n",
    "    corpus_per_year[tpy] = \" \".join(topics_per_year.get_group(tpy).values)"
   ]
  },
  {
   "cell_type": "code",
   "execution_count": 37,
   "id": "a70e5444",
   "metadata": {},
   "outputs": [],
   "source": [
    "# pd.DataFrame(corpus_per_year, index=len(corpus_per_year))\n",
    "\n",
    "corpus_df = pd.DataFrame(index=corpus_per_year.keys(), data=corpus_per_year.values(), columns=['Text'])"
   ]
  },
  {
   "cell_type": "code",
   "execution_count": 38,
   "id": "9d11f744",
   "metadata": {},
   "outputs": [],
   "source": [
    "vectorizer = CountVectorizer(max_df=0.95, min_df=25,) # Transforming the data to a matrix\n",
    "\n",
    "def vectorize_text(text):\n",
    "    tf = vectorizer.fit_transform(text) # Transforming to a sparse matrix\n",
    "    return tf\n",
    "\n",
    "tf = vectorize_text(corpus_df['Text'])"
   ]
  },
  {
   "cell_type": "code",
   "execution_count": 39,
   "id": "abc3c474",
   "metadata": {},
   "outputs": [],
   "source": [
    "# Getting the vocabulary\n",
    "vocabulary = vectorizer.get_feature_names_out()"
   ]
  },
  {
   "cell_type": "code",
   "execution_count": 40,
   "id": "f5c8fb89",
   "metadata": {},
   "outputs": [],
   "source": [
    "def get_topic_words(n_components, top_n_words, tf=tf):\n",
    "    model = LatentDirichletAllocation(n_components=n_components, max_iter=50, random_state=10)\n",
    "    \n",
    "    model_results = [] # getting the results for the model\n",
    "    topics_result = []\n",
    "    # Getting the topics\n",
    "    topics = model.fit_transform(tf)\n",
    "    \n",
    "    # Getting the words\n",
    "    topic_words = model.components_\n",
    "    \n",
    "    for x, twords in enumerate(topic_words):\n",
    "        \n",
    "        # Getting the index value of the most common words\n",
    "        sorted_topic_words = np.argsort(twords)\n",
    "\n",
    "        topic_words_ = np.array(vocabulary)[sorted_topic_words]\n",
    "\n",
    "        topic_words_n = topic_words_[:-top_n_words:-1] # Getting out the top n words\n",
    "        \n",
    "        # Appending the top words to the topic results\n",
    "        topics_result.append(f\"Topic {x+1}: {topic_words_n}\")\n",
    "    \n",
    "    return [n_components, model.score(tf), topics_result, topics]"
   ]
  },
  {
   "cell_type": "markdown",
   "id": "b8d3133e",
   "metadata": {},
   "source": [
    "#### Tweaking Model Parameters to Get Different Topics"
   ]
  },
  {
   "cell_type": "code",
   "execution_count": 41,
   "id": "72520fea",
   "metadata": {},
   "outputs": [],
   "source": [
    "model_results = []\n",
    "\n",
    "for num in range(2, 10):\n",
    "    model_results.append(get_topic_words(num, 10))"
   ]
  },
  {
   "cell_type": "markdown",
   "id": "c6594df2",
   "metadata": {},
   "source": [
    "While, I can make some sense of the topmost topics, I would want to use nouns and adjectives to see if I can get a better classification"
   ]
  },
  {
   "cell_type": "code",
   "execution_count": 42,
   "id": "02c0e030",
   "metadata": {},
   "outputs": [
    {
     "data": {
      "image/png": "[encoded data removed]",
      "text/plain": [
       "<Figure size 1400x800 with 1 Axes>"
      ]
     },
     "metadata": {},
     "output_type": "display_data"
    }
   ],
   "source": [
    "plt.figure(figsize=(14, 8))\n",
    "plt.plot([x[0] for x in model_results], [x[1] for x in model_results])\n",
    "plt.title(\"Coherence Scores per Number of Topics\", size=12);"
   ]
  },
  {
   "cell_type": "code",
   "execution_count": 43,
   "id": "303b399c",
   "metadata": {},
   "outputs": [
    {
     "data": {
      "text/html": [
       "<div>\n",
       "<style scoped>\n",
       "    .dataframe tbody tr th:only-of-type {\n",
       "        vertical-align: middle;\n",
       "    }\n",
       "\n",
       "    .dataframe tbody tr th {\n",
       "        vertical-align: top;\n",
       "    }\n",
       "\n",
       "    .dataframe thead th {\n",
       "        text-align: right;\n",
       "    }\n",
       "</style>\n",
       "<table border=\"1\" class=\"dataframe\">\n",
       "  <thead>\n",
       "    <tr style=\"text-align: right;\">\n",
       "      <th></th>\n",
       "      <th></th>\n",
       "      <th></th>\n",
       "      <th>Text</th>\n",
       "    </tr>\n",
       "  </thead>\n",
       "  <tbody>\n",
       "    <tr>\n",
       "      <th rowspan=\"14\" valign=\"top\">British Gas</th>\n",
       "      <th rowspan=\"2\" valign=\"top\">2017</th>\n",
       "      <th>Negative</th>\n",
       "      <td>claim read meter read charge hundred pound tak...</td>\n",
       "    </tr>\n",
       "    <tr>\n",
       "      <th>Positive</th>\n",
       "      <td>need replacement boiler fit year old boiler co...</td>\n",
       "    </tr>\n",
       "    <tr>\n",
       "      <th rowspan=\"2\" valign=\"top\">2018</th>\n",
       "      <th>Negative</th>\n",
       "      <td>move home make mistake involve two month dare ...</td>\n",
       "    </tr>\n",
       "    <tr>\n",
       "      <th>Positive</th>\n",
       "      <td>send engineer henry fix boiler problem thoroug...</td>\n",
       "    </tr>\n",
       "    <tr>\n",
       "      <th rowspan=\"2\" valign=\"top\">2019</th>\n",
       "      <th>Negative</th>\n",
       "      <td>homemade massive con leak upstairs bathroom co...</td>\n",
       "    </tr>\n",
       "    <tr>\n",
       "      <th>Positive</th>\n",
       "      <td>think good value money workman professional he...</td>\n",
       "    </tr>\n",
       "    <tr>\n",
       "      <th rowspan=\"2\" valign=\"top\">2020</th>\n",
       "      <th>Negative</th>\n",
       "      <td>touch homemade care annual service cancel lunc...</td>\n",
       "    </tr>\n",
       "    <tr>\n",
       "      <th>Positive</th>\n",
       "      <td>engineer come today helpful nothing much troub...</td>\n",
       "    </tr>\n",
       "    <tr>\n",
       "      <th rowspan=\"2\" valign=\"top\">2021</th>\n",
       "      <th>Negative</th>\n",
       "      <td>shamble move zebra go bust nil information eg ...</td>\n",
       "    </tr>\n",
       "    <tr>\n",
       "      <th>Positive</th>\n",
       "      <td>electricity supply fine increase price website...</td>\n",
       "    </tr>\n",
       "    <tr>\n",
       "      <th rowspan=\"2\" valign=\"top\">2022</th>\n",
       "      <th>Negative</th>\n",
       "      <td>bad app customer support ever one ever online ...</td>\n",
       "    </tr>\n",
       "    <tr>\n",
       "      <th>Positive</th>\n",
       "      <td>wait several day engineer come fix heating tme...</td>\n",
       "    </tr>\n",
       "    <tr>\n",
       "      <th rowspan=\"2\" valign=\"top\">2023</th>\n",
       "      <th>Negative</th>\n",
       "      <td>since open account husband die unable open lin...</td>\n",
       "    </tr>\n",
       "    <tr>\n",
       "      <th>Positive</th>\n",
       "      <td>call renew home service loyalty customer give ...</td>\n",
       "    </tr>\n",
       "    <tr>\n",
       "      <th rowspan=\"4\" valign=\"top\">E.on</th>\n",
       "      <th rowspan=\"2\" valign=\"top\">2022</th>\n",
       "      <th>Negative</th>\n",
       "      <td>one ever answer phone email tell anything act ...</td>\n",
       "    </tr>\n",
       "    <tr>\n",
       "      <th>Positive</th>\n",
       "      <td>four plus year smart meter able speak anyone q...</td>\n",
       "    </tr>\n",
       "    <tr>\n",
       "      <th rowspan=\"2\" valign=\"top\">2023</th>\n",
       "      <th>Negative</th>\n",
       "      <td>speak next give november reading enquire offer...</td>\n",
       "    </tr>\n",
       "    <tr>\n",
       "      <th>Positive</th>\n",
       "      <td>idea anyone would negative rate switch around ...</td>\n",
       "    </tr>\n",
       "    <tr>\n",
       "      <th rowspan=\"8\" valign=\"top\">EDF Energy</th>\n",
       "      <th rowspan=\"2\" valign=\"top\">2020</th>\n",
       "      <th>Negative</th>\n",
       "      <td>even respond complaint use third party respons...</td>\n",
       "    </tr>\n",
       "    <tr>\n",
       "      <th>Positive</th>\n",
       "      <td>father pass away april even close account rece...</td>\n",
       "    </tr>\n",
       "    <tr>\n",
       "      <th rowspan=\"2\" valign=\"top\">2021</th>\n",
       "      <th>Negative</th>\n",
       "      <td>could write long list rude lie easy fart repea...</td>\n",
       "    </tr>\n",
       "    <tr>\n",
       "      <th>Positive</th>\n",
       "      <td>omar adem absolutely brilliant patient kind th...</td>\n",
       "    </tr>\n",
       "    <tr>\n",
       "      <th rowspan=\"2\" valign=\"top\">2022</th>\n",
       "      <th>Negative</th>\n",
       "      <td>absolutely criminal actually rob scumbag chang...</td>\n",
       "    </tr>\n",
       "    <tr>\n",
       "      <th>Positive</th>\n",
       "      <td>karen complaint deal complaint quickly resolve...</td>\n",
       "    </tr>\n",
       "    <tr>\n",
       "      <th rowspan=\"2\" valign=\"top\">2023</th>\n",
       "      <th>Negative</th>\n",
       "      <td>total nightmare take month resolve issue non t...</td>\n",
       "    </tr>\n",
       "    <tr>\n",
       "      <th>Positive</th>\n",
       "      <td>awful customer service issue home display link...</td>\n",
       "    </tr>\n",
       "    <tr>\n",
       "      <th rowspan=\"13\" valign=\"top\">Npower</th>\n",
       "      <th rowspan=\"2\" valign=\"top\">2013</th>\n",
       "      <th>Negative</th>\n",
       "      <td>power really need stop send customer service s...</td>\n",
       "    </tr>\n",
       "    <tr>\n",
       "      <th>Positive</th>\n",
       "      <td>carole allison absolute asset power great cust...</td>\n",
       "    </tr>\n",
       "    <tr>\n",
       "      <th>2015</th>\n",
       "      <th>Negative</th>\n",
       "      <td>awful company deal constantly thing wrong alwa...</td>\n",
       "    </tr>\n",
       "    <tr>\n",
       "      <th rowspan=\"2\" valign=\"top\">2016</th>\n",
       "      <th>Negative</th>\n",
       "      <td>bad company ever terrible experience never eve...</td>\n",
       "    </tr>\n",
       "    <tr>\n",
       "      <th>Positive</th>\n",
       "      <td>move property yesterday still electric ring po...</td>\n",
       "    </tr>\n",
       "    <tr>\n",
       "      <th>2017</th>\n",
       "      <th>Negative</th>\n",
       "      <td>far bad customer service experience whole life...</td>\n",
       "    </tr>\n",
       "    <tr>\n",
       "      <th rowspan=\"2\" valign=\"top\">2018</th>\n",
       "      <th>Negative</th>\n",
       "      <td>stay away power try bill electric time live ho...</td>\n",
       "    </tr>\n",
       "    <tr>\n",
       "      <th>Positive</th>\n",
       "      <td>phone hour lady name karen say want say huge t...</td>\n",
       "    </tr>\n",
       "    <tr>\n",
       "      <th rowspan=\"2\" valign=\"top\">2019</th>\n",
       "      <th>Negative</th>\n",
       "      <td>use company staff totally incompetent charge e...</td>\n",
       "    </tr>\n",
       "    <tr>\n",
       "      <th>Positive</th>\n",
       "      <td>marie helpful advisor today call power erythem...</td>\n",
       "    </tr>\n",
       "    <tr>\n",
       "      <th rowspan=\"2\" valign=\"top\">2020</th>\n",
       "      <th>Negative</th>\n",
       "      <td>two appointment keep altogether hour waste tel...</td>\n",
       "    </tr>\n",
       "    <tr>\n",
       "      <th>Positive</th>\n",
       "      <td>take age talk anyone phone difficult understan...</td>\n",
       "    </tr>\n",
       "    <tr>\n",
       "      <th>2021</th>\n",
       "      <th>Negative</th>\n",
       "      <td>charge power contract pay different company re...</td>\n",
       "    </tr>\n",
       "    <tr>\n",
       "      <th rowspan=\"12\" valign=\"top\">Octopus Energy</th>\n",
       "      <th rowspan=\"2\" valign=\"top\">2018</th>\n",
       "      <th>Negative</th>\n",
       "      <td>partner recently join bulb use another member ...</td>\n",
       "    </tr>\n",
       "    <tr>\n",
       "      <th>Positive</th>\n",
       "      <td>excellent utility company cheap bill tariff ch...</td>\n",
       "    </tr>\n",
       "    <tr>\n",
       "      <th rowspan=\"2\" valign=\"top\">2019</th>\n",
       "      <th>Negative</th>\n",
       "      <td>believe advert switch ovo sept already regret ...</td>\n",
       "    </tr>\n",
       "    <tr>\n",
       "      <th>Positive</th>\n",
       "      <td>happy price customer service green would recom...</td>\n",
       "    </tr>\n",
       "    <tr>\n",
       "      <th rowspan=\"2\" valign=\"top\">2020</th>\n",
       "      <th>Negative</th>\n",
       "      <td>switch late may send fifth consecutive month p...</td>\n",
       "    </tr>\n",
       "    <tr>\n",
       "      <th>Positive</th>\n",
       "      <td>excellent customer service good communication ...</td>\n",
       "    </tr>\n",
       "    <tr>\n",
       "      <th rowspan=\"2\" valign=\"top\">2021</th>\n",
       "      <th>Negative</th>\n",
       "      <td>oh atrocious company think sign company well t...</td>\n",
       "    </tr>\n",
       "    <tr>\n",
       "      <th>Positive</th>\n",
       "      <td>transparent website mail communication fast ef...</td>\n",
       "    </tr>\n",
       "    <tr>\n",
       "      <th rowspan=\"2\" valign=\"top\">2022</th>\n",
       "      <th>Negative</th>\n",
       "      <td>absolutely incompetent company deal company de...</td>\n",
       "    </tr>\n",
       "    <tr>\n",
       "      <th>Positive</th>\n",
       "      <td>want economy rate new electric car min sort ev...</td>\n",
       "    </tr>\n",
       "    <tr>\n",
       "      <th rowspan=\"2\" valign=\"top\">2023</th>\n",
       "      <th>Negative</th>\n",
       "      <td>use excellent big bad centrica rest could make...</td>\n",
       "    </tr>\n",
       "    <tr>\n",
       "      <th>Positive</th>\n",
       "      <td>speak customer advisor morning pleasant listen...</td>\n",
       "    </tr>\n",
       "  </tbody>\n",
       "</table>\n",
       "</div>"
      ],
      "text/plain": [
       "                                                                           Text\n",
       "British Gas    2017 Negative  claim read meter read charge hundred pound tak...\n",
       "                    Positive  need replacement boiler fit year old boiler co...\n",
       "               2018 Negative  move home make mistake involve two month dare ...\n",
       "                    Positive  send engineer henry fix boiler problem thoroug...\n",
       "               2019 Negative  homemade massive con leak upstairs bathroom co...\n",
       "                    Positive  think good value money workman professional he...\n",
       "               2020 Negative  touch homemade care annual service cancel lunc...\n",
       "                    Positive  engineer come today helpful nothing much troub...\n",
       "               2021 Negative  shamble move zebra go bust nil information eg ...\n",
       "                    Positive  electricity supply fine increase price website...\n",
       "               2022 Negative  bad app customer support ever one ever online ...\n",
       "                    Positive  wait several day engineer come fix heating tme...\n",
       "               2023 Negative  since open account husband die unable open lin...\n",
       "                    Positive  call renew home service loyalty customer give ...\n",
       "E.on           2022 Negative  one ever answer phone email tell anything act ...\n",
       "                    Positive  four plus year smart meter able speak anyone q...\n",
       "               2023 Negative  speak next give november reading enquire offer...\n",
       "                    Positive  idea anyone would negative rate switch around ...\n",
       "EDF Energy     2020 Negative  even respond complaint use third party respons...\n",
       "                    Positive  father pass away april even close account rece...\n",
       "               2021 Negative  could write long list rude lie easy fart repea...\n",
       "                    Positive  omar adem absolutely brilliant patient kind th...\n",
       "               2022 Negative  absolutely criminal actually rob scumbag chang...\n",
       "                    Positive  karen complaint deal complaint quickly resolve...\n",
       "               2023 Negative  total nightmare take month resolve issue non t...\n",
       "                    Positive  awful customer service issue home display link...\n",
       "Npower         2013 Negative  power really need stop send customer service s...\n",
       "                    Positive  carole allison absolute asset power great cust...\n",
       "               2015 Negative  awful company deal constantly thing wrong alwa...\n",
       "               2016 Negative  bad company ever terrible experience never eve...\n",
       "                    Positive  move property yesterday still electric ring po...\n",
       "               2017 Negative  far bad customer service experience whole life...\n",
       "               2018 Negative  stay away power try bill electric time live ho...\n",
       "                    Positive  phone hour lady name karen say want say huge t...\n",
       "               2019 Negative  use company staff totally incompetent charge e...\n",
       "                    Positive  marie helpful advisor today call power erythem...\n",
       "               2020 Negative  two appointment keep altogether hour waste tel...\n",
       "                    Positive  take age talk anyone phone difficult understan...\n",
       "               2021 Negative  charge power contract pay different company re...\n",
       "Octopus Energy 2018 Negative  partner recently join bulb use another member ...\n",
       "                    Positive  excellent utility company cheap bill tariff ch...\n",
       "               2019 Negative  believe advert switch ovo sept already regret ...\n",
       "                    Positive  happy price customer service green would recom...\n",
       "               2020 Negative  switch late may send fifth consecutive month p...\n",
       "                    Positive  excellent customer service good communication ...\n",
       "               2021 Negative  oh atrocious company think sign company well t...\n",
       "                    Positive  transparent website mail communication fast ef...\n",
       "               2022 Negative  absolutely incompetent company deal company de...\n",
       "                    Positive  want economy rate new electric car min sort ev...\n",
       "               2023 Negative  use excellent big bad centrica rest could make...\n",
       "                    Positive  speak customer advisor morning pleasant listen..."
      ]
     },
     "execution_count": 43,
     "metadata": {},
     "output_type": "execute_result"
    }
   ],
   "source": [
    "corpus_df"
   ]
  },
  {
   "cell_type": "markdown",
   "id": "c618f553",
   "metadata": {},
   "source": [
    "#### Using only Adjectives and Nouns"
   ]
  },
  {
   "cell_type": "code",
   "execution_count": 44,
   "id": "d31d995b",
   "metadata": {},
   "outputs": [],
   "source": [
    "def nouns_adjects(text):\n",
    "    \"This will only get the nouns and adjectives\"\n",
    "    is_noun_adjective = lambda pos: pos[:2] == 'NN' or pos[:2] == 'JJ'\n",
    "\n",
    "    tokens = word_tokenize(text.lower()) # tokenizing the word\n",
    "    \n",
    "    # Getting only the nouns and adjectives\n",
    "    nouns_adj = [word for (word, pos) in pos_tag(tokens) if is_noun_adjective and len(word) > 1]\n",
    "    return ' '.join(nouns_adj)"
   ]
  },
  {
   "cell_type": "code",
   "execution_count": 45,
   "id": "12c67487",
   "metadata": {},
   "outputs": [],
   "source": [
    "# Vectorizing adjectives and nouns\n",
    "corpus_adj = corpus_df['Text'].apply(lambda x: nouns_adjects(x))\n",
    "\n",
    "corpus_adj_noun = vectorize_text(corpus_adj)"
   ]
  },
  {
   "cell_type": "code",
   "execution_count": 46,
   "id": "d62604af",
   "metadata": {},
   "outputs": [],
   "source": [
    "# Getting the vocabulary\n",
    "vocab_adj_noun = vectorizer.get_feature_names_out()"
   ]
  },
  {
   "cell_type": "code",
   "execution_count": 47,
   "id": "fae1f126",
   "metadata": {},
   "outputs": [],
   "source": [
    "noun_adj_scores = []\n",
    "\n",
    "for num in range(2, 10):\n",
    "    noun_adj_scores.append(get_topic_words(num, 10, corpus_adj_noun))"
   ]
  },
  {
   "cell_type": "code",
   "execution_count": 48,
   "id": "1101aa04",
   "metadata": {},
   "outputs": [
    {
     "data": {
      "image/png": "[encoded data removed]",
      "text/plain": [
       "<Figure size 1400x800 with 1 Axes>"
      ]
     },
     "metadata": {},
     "output_type": "display_data"
    }
   ],
   "source": [
    "plt.figure(figsize=(14, 8))\n",
    "plt.plot([x[0] for x in noun_adj_scores], [x[1] for x in noun_adj_scores])\n",
    "plt.title(\"Coherence Scores per Number of Topics\", size=12);"
   ]
  },
  {
   "cell_type": "code",
   "execution_count": 49,
   "id": "582b618d",
   "metadata": {},
   "outputs": [
    {
     "data": {
      "text/plain": [
       "[\"Topic 1: ['bill' 'meter' 'company' 'month' 'customer' 'take' 'go' 'pay' 'account']\",\n",
       " \"Topic 2: ['service' 'call' 'engineer' 'customer' 'day' 'time' 'say' 'tell' 'phone']\",\n",
       " \"Topic 3: ['switch' 'credit' 'use' 'service' 'good' 'customer' 'account' 'tariff'\\n 'month']\"]"
      ]
     },
     "execution_count": 49,
     "metadata": {},
     "output_type": "execute_result"
    }
   ],
   "source": [
    "noun_adj_scores[1][2]"
   ]
  },
  {
   "cell_type": "code",
   "execution_count": 50,
   "id": "41a3865d",
   "metadata": {
    "scrolled": true
   },
   "outputs": [
    {
     "data": {
      "text/plain": [
       "[\"Topic 1: ['meter' 'bill' 'company' 'month' 'customer' 'take' 'go' 'email' 'pay']\",\n",
       " \"Topic 2: ['service' 'call' 'engineer' 'customer' 'day' 'time' 'say' 'tell' 'phone']\",\n",
       " \"Topic 3: ['switch' 'credit' 'use' 'service' 'good' 'customer' 'account' 'tariff'\\n 'month']\",\n",
       " \"Topic 4: ['power' 'bill' 'meter' 'complaint' 'account' 'say' 'give' 'new' 'would']\"]"
      ]
     },
     "execution_count": 50,
     "metadata": {},
     "output_type": "execute_result"
    }
   ],
   "source": [
    "model_results[2][2]"
   ]
  },
  {
   "cell_type": "code",
   "execution_count": 51,
   "id": "3c9310b3",
   "metadata": {},
   "outputs": [],
   "source": [
    "# Most prevalent issues\n",
    "Topic_1 = 'Complain and Service Resolution'\n",
    "Topic_2 = 'Customer Service'\n",
    "Topic_3 = \"Billing and Meter Related Issues\""
   ]
  },
  {
   "cell_type": "code",
   "execution_count": 52,
   "id": "5ed4167e",
   "metadata": {},
   "outputs": [
    {
     "data": {
      "text/html": [
       "<div>\n",
       "<style scoped>\n",
       "    .dataframe tbody tr th:only-of-type {\n",
       "        vertical-align: middle;\n",
       "    }\n",
       "\n",
       "    .dataframe tbody tr th {\n",
       "        vertical-align: top;\n",
       "    }\n",
       "\n",
       "    .dataframe thead th {\n",
       "        text-align: right;\n",
       "    }\n",
       "</style>\n",
       "<table border=\"1\" class=\"dataframe\">\n",
       "  <thead>\n",
       "    <tr style=\"text-align: right;\">\n",
       "      <th></th>\n",
       "      <th>Company</th>\n",
       "      <th>Reviewer Verification Status</th>\n",
       "      <th>Date</th>\n",
       "      <th>Rating</th>\n",
       "      <th>Review</th>\n",
       "      <th>Approximate Date of Review</th>\n",
       "      <th>Review_Text_Cleaned</th>\n",
       "      <th>Sentiment</th>\n",
       "      <th>year</th>\n",
       "    </tr>\n",
       "  </thead>\n",
       "  <tbody>\n",
       "    <tr>\n",
       "      <th>0</th>\n",
       "      <td>British Gas</td>\n",
       "      <td>Verified Reviewer</td>\n",
       "      <td>6 years</td>\n",
       "      <td>1</td>\n",
       "      <td>they claimed to have read my meter and over re...</td>\n",
       "      <td>2017-12-01</td>\n",
       "      <td>claim read meter read charge hundred pound tak...</td>\n",
       "      <td>Negative</td>\n",
       "      <td>2017</td>\n",
       "    </tr>\n",
       "    <tr>\n",
       "      <th>1</th>\n",
       "      <td>British Gas</td>\n",
       "      <td>Not Verified</td>\n",
       "      <td>6 years</td>\n",
       "      <td>1</td>\n",
       "      <td>they have the worst communication between depa...</td>\n",
       "      <td>2017-12-01</td>\n",
       "      <td>bad communication department ever see book plu...</td>\n",
       "      <td>Negative</td>\n",
       "      <td>2017</td>\n",
       "    </tr>\n",
       "    <tr>\n",
       "      <th>2</th>\n",
       "      <td>British Gas</td>\n",
       "      <td>Verified Reviewer</td>\n",
       "      <td>6 years</td>\n",
       "      <td>1</td>\n",
       "      <td>worst customer service i have come across simp...</td>\n",
       "      <td>2017-12-01</td>\n",
       "      <td>bad customer service come across simply avoid ...</td>\n",
       "      <td>Negative</td>\n",
       "      <td>2017</td>\n",
       "    </tr>\n",
       "    <tr>\n",
       "      <th>3</th>\n",
       "      <td>British Gas</td>\n",
       "      <td>Not Verified</td>\n",
       "      <td>6 years</td>\n",
       "      <td>1</td>\n",
       "      <td>absolute shambles of a service for homemade bo...</td>\n",
       "      <td>2017-12-01</td>\n",
       "      <td>absolute shamble service homemade boiler cover...</td>\n",
       "      <td>Negative</td>\n",
       "      <td>2017</td>\n",
       "    </tr>\n",
       "    <tr>\n",
       "      <th>4</th>\n",
       "      <td>British Gas</td>\n",
       "      <td>Verified Reviewer</td>\n",
       "      <td>6 years</td>\n",
       "      <td>1</td>\n",
       "      <td>i pay a lot of money annually for homemade so ...</td>\n",
       "      <td>2017-12-01</td>\n",
       "      <td>pay lot money annually homemade peace mind cov...</td>\n",
       "      <td>Negative</td>\n",
       "      <td>2017</td>\n",
       "    </tr>\n",
       "  </tbody>\n",
       "</table>\n",
       "</div>"
      ],
      "text/plain": [
       "       Company Reviewer Verification Status     Date  Rating  \\\n",
       "0  British Gas            Verified Reviewer  6 years       1   \n",
       "1  British Gas                 Not Verified  6 years       1   \n",
       "2  British Gas            Verified Reviewer  6 years       1   \n",
       "3  British Gas                 Not Verified  6 years       1   \n",
       "4  British Gas            Verified Reviewer  6 years       1   \n",
       "\n",
       "                                              Review  \\\n",
       "0  they claimed to have read my meter and over re...   \n",
       "1  they have the worst communication between depa...   \n",
       "2  worst customer service i have come across simp...   \n",
       "3  absolute shambles of a service for homemade bo...   \n",
       "4  i pay a lot of money annually for homemade so ...   \n",
       "\n",
       "  Approximate Date of Review  \\\n",
       "0                 2017-12-01   \n",
       "1                 2017-12-01   \n",
       "2                 2017-12-01   \n",
       "3                 2017-12-01   \n",
       "4                 2017-12-01   \n",
       "\n",
       "                                 Review_Text_Cleaned Sentiment  year  \n",
       "0  claim read meter read charge hundred pound tak...  Negative  2017  \n",
       "1  bad communication department ever see book plu...  Negative  2017  \n",
       "2  bad customer service come across simply avoid ...  Negative  2017  \n",
       "3  absolute shamble service homemade boiler cover...  Negative  2017  \n",
       "4  pay lot money annually homemade peace mind cov...  Negative  2017  "
      ]
     },
     "execution_count": 52,
     "metadata": {},
     "output_type": "execute_result"
    }
   ],
   "source": [
    "cleaned_data.head()"
   ]
  },
  {
   "cell_type": "code",
   "execution_count": 53,
   "id": "ec8e7dce",
   "metadata": {},
   "outputs": [],
   "source": [
    "topic_proba = pd.DataFrame(model_results[1][-1], columns=['Topic 1', \"Topic 2\", \"Topic 3\"], index=corpus_df.index)\n",
    "\n",
    "cleaned_data.rename(columns={'year': 'Year'}, inplace=True)\n",
    "nps = {'British Gas': 5, 'E.on':5, 'EDF Energy':5, 'Npower':3, 'Octopus Energy':27}\n",
    "cleaned_data['NPS'] = cleaned_data['Company'].apply(lambda x: nps[x])\n",
    "\n",
    "# Resetting and renaming the index\n",
    "topic_proba = topic_proba.reset_index().rename(columns={f\"level_{ind}\": val for ind, val in enumerate(['Company', 'Year', \"Sentiment\"])})\n",
    "\n",
    "all_dataset = pd.merge(cleaned_data, topic_proba, on=['Company', 'Year', \"Sentiment\"], how='left')"
   ]
  },
  {
   "cell_type": "code",
   "execution_count": 54,
   "id": "2b77a0bf",
   "metadata": {},
   "outputs": [],
   "source": [
    "tableau_word_cloud = all_dataset['Review_Text_Cleaned'].str.split(expand=True)"
   ]
  },
  {
   "cell_type": "code",
   "execution_count": 55,
   "id": "2f413ad2",
   "metadata": {},
   "outputs": [],
   "source": [
    "# Splitting the reviews dataset for tableau\n",
    "null_vals_per_col = tableau_word_cloud.isnull().sum()\n",
    "\n",
    "null_vals_per_col_idx = null_vals_per_col[null_vals_per_col > 3700].index"
   ]
  },
  {
   "cell_type": "code",
   "execution_count": 56,
   "id": "add688f1",
   "metadata": {},
   "outputs": [],
   "source": [
    "# Cleaning the dataset for tableau\n",
    "tableau_word_cloud.drop(columns=null_vals_per_col_idx, inplace=True)"
   ]
  },
  {
   "cell_type": "code",
   "execution_count": 57,
   "id": "bd449533",
   "metadata": {},
   "outputs": [],
   "source": [
    "# Combining the datasets\n",
    "all_dataset = pd.concat([all_dataset, tableau_word_cloud], axis=1)"
   ]
  },
  {
   "cell_type": "code",
   "execution_count": 58,
   "id": "9a73bbb5",
   "metadata": {},
   "outputs": [],
   "source": [
    "# Removing the duplicated values\n",
    "topic_indx = all_dataset[all_dataset.duplicated(['Company', 'Year', 'Sentiment', 'Topic 1', 'Topic 2', 'Topic 3'])].index"
   ]
  },
  {
   "cell_type": "code",
   "execution_count": 59,
   "id": "b7c8865f",
   "metadata": {},
   "outputs": [
    {
     "name": "stderr",
     "output_type": "stream",
     "text": [
      "C:\\Users\\USER\\AppData\\Local\\Temp\\ipykernel_18216\\2823545767.py:3: SettingWithCopyWarning: \n",
      "A value is trying to be set on a copy of a slice from a DataFrame\n",
      "\n",
      "See the caveats in the documentation: https://pandas.pydata.org/pandas-docs/stable/user_guide/indexing.html#returning-a-view-versus-a-copy\n",
      "  all_dataset[top].loc[topic_indx] = None\n",
      "C:\\Users\\USER\\AppData\\Local\\Temp\\ipykernel_18216\\2823545767.py:3: SettingWithCopyWarning: \n",
      "A value is trying to be set on a copy of a slice from a DataFrame\n",
      "\n",
      "See the caveats in the documentation: https://pandas.pydata.org/pandas-docs/stable/user_guide/indexing.html#returning-a-view-versus-a-copy\n",
      "  all_dataset[top].loc[topic_indx] = None\n",
      "C:\\Users\\USER\\AppData\\Local\\Temp\\ipykernel_18216\\2823545767.py:3: SettingWithCopyWarning: \n",
      "A value is trying to be set on a copy of a slice from a DataFrame\n",
      "\n",
      "See the caveats in the documentation: https://pandas.pydata.org/pandas-docs/stable/user_guide/indexing.html#returning-a-view-versus-a-copy\n",
      "  all_dataset[top].loc[topic_indx] = None\n"
     ]
    }
   ],
   "source": [
    "# Cleaning the dataset\n",
    "for top in ['Topic 1', 'Topic 2', 'Topic 3']:\n",
    "    all_dataset[top].loc[topic_indx] = None"
   ]
  },
  {
   "cell_type": "code",
   "execution_count": 60,
   "id": "9d3cb8ac",
   "metadata": {},
   "outputs": [
    {
     "name": "stderr",
     "output_type": "stream",
     "text": [
      "C:\\Users\\USER\\AppData\\Local\\Temp\\ipykernel_18216\\3339558180.py:4: SettingWithCopyWarning: \n",
      "A value is trying to be set on a copy of a slice from a DataFrame\n",
      "\n",
      "See the caveats in the documentation: https://pandas.pydata.org/pandas-docs/stable/user_guide/indexing.html#returning-a-view-versus-a-copy\n",
      "  all_dataset['NPS'].loc[nps_dupx] = None # cleaning the duplicate nps\n"
     ]
    }
   ],
   "source": [
    "# Getting the duplicate of nps\n",
    "nps_dupx = all_dataset[all_dataset.duplicated(['Company', 'NPS'])].index\n",
    "\n",
    "all_dataset['NPS'].loc[nps_dupx] = None # cleaning the duplicate nps"
   ]
  },
  {
   "cell_type": "code",
   "execution_count": 61,
   "id": "01155831",
   "metadata": {},
   "outputs": [],
   "source": [
    "# Removing other columns not needed\n",
    "all_dataset.drop(columns=['Date', 'Review', 'Review_Text_Cleaned', 'Year'], inplace=True)"
   ]
  },
  {
   "cell_type": "code",
   "execution_count": 62,
   "id": "d58a5f25",
   "metadata": {},
   "outputs": [],
   "source": [
    "all_dataset.to_csv('all-dataset.csv', index=False) # Saving to csv"
   ]
  },
  {
   "cell_type": "code",
   "execution_count": null,
   "id": "49bf7f8a",
   "metadata": {},
   "outputs": [],
   "source": []
  }
 ],
 "metadata": {
  "kernelspec": {
   "display_name": "Python 3 (ipykernel)",
   "language": "python",
   "name": "python3"
  },
  "language_info": {
   "codemirror_mode": {
    "name": "ipython",
    "version": 3
   },
   "file_extension": ".py",
   "mimetype": "text/x-python",
   "name": "python",
   "nbconvert_exporter": "python",
   "pygments_lexer": "ipython3",
   "version": "3.11.5"
  }
 },
 "nbformat": 4,
 "nbformat_minor": 5
}
