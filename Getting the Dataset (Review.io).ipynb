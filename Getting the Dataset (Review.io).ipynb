{
 "cells": [
  {
   "cell_type": "code",
   "execution_count": 1,
   "id": "c6182655",
   "metadata": {},
   "outputs": [],
   "source": [
    "# Importing the libraries\n",
    "import pandas as pd\n",
    "from selenium import webdriver \n",
    " \n",
    "import time\n",
    "from selenium.webdriver.common.by import By\n",
    "from selenium.webdriver.support import expected_conditions as EC"
   ]
  },
  {
   "cell_type": "code",
   "execution_count": 2,
   "id": "3c0c4296",
   "metadata": {},
   "outputs": [],
   "source": [
    "driver = webdriver.Chrome() # creating an instance"
   ]
  },
  {
   "cell_type": "code",
   "execution_count": 6,
   "id": "0a9e701f",
   "metadata": {},
   "outputs": [],
   "source": [
    "urls = {'British Gas': 'https://www.reviews.io/company-reviews/store/british-gas', \n",
    "       'E.on': 'https://www.reviews.io/company-reviews/store/eon',\n",
    "        'Npower': 'https://www.reviews.io/company-reviews/store/npower', \n",
    "        \"EDF Energy\": 'https://www.reviews.io/company-reviews/store/edf-energy1', \n",
    "    \"Octopus Energy\": 'https://www.reviews.io/company-reviews/store/octopus-energy'}"
   ]
  },
  {
   "cell_type": "code",
   "execution_count": 4,
   "id": "b932bf7d",
   "metadata": {},
   "outputs": [],
   "source": [
    "# creating a function that will help in scraping (using findAll)\n",
    "def locator(class_name):\n",
    "    time.sleep(2)\n",
    "    vals = driver.find_elements(By.CLASS_NAME, class_name)\n",
    "    return [i.text.strip() for i in vals]"
   ]
  },
  {
   "cell_type": "code",
   "execution_count": 5,
   "id": "0b7632f0",
   "metadata": {},
   "outputs": [],
   "source": [
    "def get_rating():\n",
    "    # It will wait until the element is clickable\n",
    "    time.sleep(2)\n",
    "    review_stars = driver.find_elements(By.CLASS_NAME, 'Review__overallStars') # Getting the review starts\n",
    "    time.sleep(1)\n",
    "    html_code = [driver.execute_script(\"return arguments[0].innerHTML;\", x) for x in review_stars] # getting the HTML code\n",
    "    ratings = [score.count('stars__icon--100\"') for score in html_code]\n",
    "    return [1 if rate == 0 else rate for rate in ratings]"
   ]
  },
  {
   "cell_type": "code",
   "execution_count": 13,
   "id": "ba68c453",
   "metadata": {},
   "outputs": [],
   "source": [
    "dataset = {'Company': [], 'Reviewer Verification Status': [], 'Date': [], 'Rating': [], 'Review': []}\n",
    "\n",
    "for comp, url in urls.items():\n",
    "    website = driver.get(url)\n",
    "    while True:\n",
    "        # Gets the dataset\n",
    "        reviewer_verification = locator(\"BadgeElement__text\")\n",
    "        date_posted = locator('Review__dateSource')\n",
    "        review = locator('Review__body')\n",
    "        rating = get_rating()\n",
    "\n",
    "        # Appending the data to the datasets\n",
    "        dataset['Reviewer Verification Status'].extend(reviewer_verification)\n",
    "        dataset['Date'].extend(date_posted)\n",
    "        dataset['Review'].extend(review)\n",
    "        dataset['Rating'].extend(rating)\n",
    "        dataset['Company'].extend([comp] * len(date_posted))\n",
    "\n",
    "        try:\n",
    "            next_keys = driver.find_element(By.LINK_TEXT, '»')\n",
    "            next_keys.click() #next keys\n",
    "        except:\n",
    "            break\n",
    "        "
   ]
  },
  {
   "cell_type": "code",
   "execution_count": 15,
   "id": "dc949238",
   "metadata": {},
   "outputs": [],
   "source": [
    "# Saving the data to a dataframe\n",
    "dataframe_energy = pd.DataFrame(dataset)"
   ]
  },
  {
   "cell_type": "code",
   "execution_count": 16,
   "id": "296b93fc",
   "metadata": {},
   "outputs": [],
   "source": [
    "dataframe_energy.drop_duplicates(inplace=True)"
   ]
  },
  {
   "cell_type": "code",
   "execution_count": 17,
   "id": "0d36aad5",
   "metadata": {},
   "outputs": [
    {
     "name": "stdout",
     "output_type": "stream",
     "text": [
      "<class 'pandas.core.frame.DataFrame'>\n",
      "Index: 4153 entries, 0 to 4195\n",
      "Data columns (total 5 columns):\n",
      " #   Column                        Non-Null Count  Dtype \n",
      "---  ------                        --------------  ----- \n",
      " 0   Company                       4153 non-null   object\n",
      " 1   Reviewer Verification Status  4153 non-null   object\n",
      " 2   Date                          4153 non-null   object\n",
      " 3   Rating                        4153 non-null   int64 \n",
      " 4   Review                        4153 non-null   object\n",
      "dtypes: int64(1), object(4)\n",
      "memory usage: 194.7+ KB\n"
     ]
    }
   ],
   "source": [
    "# Dataframe information\n",
    "dataframe_energy.info()"
   ]
  },
  {
   "cell_type": "code",
   "execution_count": 18,
   "id": "daa55b11",
   "metadata": {},
   "outputs": [],
   "source": [
    "# Replacing the index\n",
    "dataframe_energy.reset_index(drop=True, inplace=True)"
   ]
  },
  {
   "cell_type": "code",
   "execution_count": 19,
   "id": "de7dc878",
   "metadata": {},
   "outputs": [],
   "source": [
    "# Saving the dataset to csv\n",
    "dataframe_energy.to_csv('Energy-Data.csv', index=False)"
   ]
  }
 ],
 "metadata": {
  "kernelspec": {
   "display_name": "Python 3 (ipykernel)",
   "language": "python",
   "name": "python3"
  },
  "language_info": {
   "codemirror_mode": {
    "name": "ipython",
    "version": 3
   },
   "file_extension": ".py",
   "mimetype": "text/x-python",
   "name": "python",
   "nbconvert_exporter": "python",
   "pygments_lexer": "ipython3",
   "version": "3.11.5"
  }
 },
 "nbformat": 4,
 "nbformat_minor": 5
}
